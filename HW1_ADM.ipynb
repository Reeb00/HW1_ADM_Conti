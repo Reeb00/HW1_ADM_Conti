{
 "cells": [
  {
   "cell_type": "code",
   "execution_count": null,
   "id": "6876e95a",
   "metadata": {},
   "outputs": [],
   "source": [
    "#exercise 1-Hello world\n",
    "\n",
    "my_string=('Hello, World!')\n",
    "print(my_string)\n"
   ]
  },
  {
   "cell_type": "code",
   "execution_count": null,
   "id": "336078e5",
   "metadata": {},
   "outputs": [],
   "source": [
    "#exercise 2-introduction\n",
    "\n",
    "\n",
    "import math\n",
    "import os\n",
    "import random\n",
    "import re\n",
    "import sys\n",
    "\n",
    "\n",
    "\n",
    "if __name__ == '__main__':\n",
    "    n = int(input().strip())\n",
    "    if n%2==0:\n",
    "        if (n>=2 and n<=5) or n>20:\n",
    "            print('Not Weird')\n",
    "        else:\n",
    "            print('Weird')  \n",
    "    else:\n",
    "        print('Weird')      \n",
    "\n"
   ]
  },
  {
   "cell_type": "code",
   "execution_count": null,
   "id": "690ad685",
   "metadata": {},
   "outputs": [],
   "source": [
    "#exercise 3-Arithmetic Operators\n",
    "\n",
    "if __name__ == '__main__':\n",
    "    a = int(input())\n",
    "    b = int(input())\n",
    "    print(a+b)\n",
    "    print(a-b)\n",
    "    print(a*b)\n",
    "\n",
    "\n"
   ]
  },
  {
   "cell_type": "code",
   "execution_count": null,
   "id": "3e4f52db",
   "metadata": {},
   "outputs": [],
   "source": [
    "#Exercise 4- Python:Division\n",
    "\n",
    "if __name__ == '__main__':\n",
    "    a = int(input())\n",
    "    b = int(input())\n",
    "    print(int(a/b))\n",
    "    print(float(a/b))\n"
   ]
  },
  {
   "cell_type": "code",
   "execution_count": null,
   "id": "a08902e3",
   "metadata": {},
   "outputs": [],
   "source": [
    "#Exercise 5- Loops\n",
    "\n",
    "if __name__ == '__main__':\n",
    "    n = int(input())\n",
    "    for i in range(n):\n",
    "        print(i**2)\n"
   ]
  },
  {
   "cell_type": "code",
   "execution_count": null,
   "id": "e2f692c8",
   "metadata": {},
   "outputs": [],
   "source": [
    "#Exercise 6- Write a function\n",
    "\n",
    "def is_leap(year):\n",
    "    if (year%4==0 and year%100!=0) or(year%400==0):\n",
    "        leap=True\n",
    "    else:\n",
    "        leap=False\n",
    "\n",
    "    \n",
    "    return leap\n",
    "\n",
    "year = int(input())"
   ]
  },
  {
   "cell_type": "code",
   "execution_count": null,
   "id": "55b826da",
   "metadata": {},
   "outputs": [],
   "source": [
    "#Exercise 7- print function\n",
    "\n",
    "if __name__ == '__main__':\n",
    "    n = int(input())\n",
    "    \n",
    "    for i in range(1,n+1):\n",
    "        print(i,end='')"
   ]
  },
  {
   "cell_type": "code",
   "execution_count": null,
   "id": "7574f4aa",
   "metadata": {},
   "outputs": [],
   "source": [
    "#BASIC DATA TYPES"
   ]
  },
  {
   "cell_type": "code",
   "execution_count": null,
   "id": "be60ffea",
   "metadata": {},
   "outputs": [],
   "source": [
    "#exercise 8- List comprehension\n",
    "if __name__ == '__main__':\n",
    "    x = int(input())\n",
    "    y = int(input())\n",
    "    z = int(input())\n",
    "    n = int(input())\n",
    "    cuboid_coord=[[i,j,k]\n",
    "    for i in range(x+1)\n",
    "    for j in range(y+1)\n",
    "    for k in range(z+1)\n",
    "    if i+j+k!=n]\n",
    "    \n",
    "    print(cuboid_coord)"
   ]
  },
  {
   "cell_type": "code",
   "execution_count": null,
   "id": "8b2247cb",
   "metadata": {},
   "outputs": [],
   "source": [
    "#exercise 9 - Find the runner_up\n",
    "if __name__ == '__main__':\n",
    "    n = int(input())\n",
    "    arr = map(int, input().split())\n",
    "\n",
    "arr=list(set(arr))\n",
    "arr.remove(max(arr))\n",
    "print(max(arr))"
   ]
  },
  {
   "cell_type": "code",
   "execution_count": null,
   "id": "b29df071",
   "metadata": {},
   "outputs": [],
   "source": [
    "#Exercise 10 -Nested List\n",
    "if __name__ == '__main__':\n",
    "    r=[]\n",
    "    s=[]\n",
    "    for _ in range(int(input())):\n",
    "        name = input()\n",
    "        score = float(input())\n",
    "        r.append([name,score])\n",
    "        s.append(score)\n",
    "        \n",
    "        \n",
    "    s=sorted(set(s))\n",
    "    second_low = s[1]\n",
    "    second_low_s=[]\n",
    "    for i in r:\n",
    "        if i[1] == second_low:\n",
    "            second_low_s.append(i[0])\n",
    "    second_low_s.sort()\n",
    "    for name in second_low_s:\n",
    "        print(name)"
   ]
  },
  {
   "cell_type": "code",
   "execution_count": null,
   "id": "2a6102aa",
   "metadata": {},
   "outputs": [],
   "source": [
    "#Exercise 11 -Finding the percentage\n",
    "if __name__ == '__main__':\n",
    "    n = int(input())\n",
    "    student_marks = {}\n",
    "    \n",
    "    for _ in range(n):\n",
    "        name, *line = input().split()\n",
    "        scores = list(map(float, line))\n",
    "        student_marks[name] = scores\n",
    "    query_name = input()\n",
    "   \n",
    "    marks=student_marks[query_name]\n",
    "    a= sum(marks)/len(marks)\n",
    "    print(\"{:.2f}\".format(a))"
   ]
  },
  {
   "cell_type": "code",
   "execution_count": null,
   "id": "b158c1e0",
   "metadata": {},
   "outputs": [],
   "source": [
    "#EXERCISE 12 LISTS\n",
    "if _name_ == '_main_':\n",
    "    N = int(input())\n",
    "    l=[]\n",
    "    for i in range(N):\n",
    "        i=input()\n",
    "        a=i.split()\n",
    "        if a[0]=='insert':\n",
    "            l.insert(int(a[1]), int(a[2]))\n",
    "        elif a[0]=='print':\n",
    "            print(l)\n",
    "        elif a[0]=='remove':\n",
    "            l.remove(int(a[1]))\n",
    "        elif a[0]=='append':\n",
    "            l.append(int(a[1]))\n",
    "        elif a[0]=='sort':\n",
    "            l.sort()\n",
    "        elif a[0]=='pop':\n",
    "            l.pop()\n",
    "        elif a[0]=='reverse':\n",
    "            l.reverse()"
   ]
  },
  {
   "cell_type": "code",
   "execution_count": null,
   "id": "69bb2e89",
   "metadata": {},
   "outputs": [],
   "source": [
    "#Tuple \n",
    "if _name_ == '_main_':\n",
    "    n = int(input())\n",
    "    integer_list = map(int, input().split())\n",
    "    t=tuple(integer_list)\n",
    "    print(hash(t))"
   ]
  },
  {
   "cell_type": "code",
   "execution_count": null,
   "id": "4a96f583",
   "metadata": {},
   "outputs": [],
   "source": [
    "#STRINGS"
   ]
  },
  {
   "cell_type": "code",
   "execution_count": null,
   "id": "fc178f3b",
   "metadata": {},
   "outputs": [],
   "source": [
    "#what's your name ex14\n",
    "def print_full_name(first, last):\n",
    "    l = 'Hello {} {}! You just delved into python.'.format(first, last)\n",
    "    print(l) \n",
    "\n",
    "\n",
    "if __name__ == '__main__':\n",
    "    first_name = input()\n",
    "    last_name = input()\n",
    "    print_full_name(first_name, last_name)"
   ]
  },
  {
   "cell_type": "code",
   "execution_count": null,
   "id": "7b3ca6d7",
   "metadata": {},
   "outputs": [],
   "source": [
    "#string split and join\n",
    "def split_and_join(line):\n",
    "    spl = line.split(\" \")\n",
    "    spl = \"-\".join(spl)\n",
    "    return(spl)\n",
    "\n",
    "if __name__ == '__main__':\n",
    "    line = input()\n",
    "    result = split_and_join(line)\n",
    "    print(result)"
   ]
  },
  {
   "cell_type": "code",
   "execution_count": null,
   "id": "55a93438",
   "metadata": {},
   "outputs": [],
   "source": [
    "#Mutations\n",
    "def mutate_string(string, position, character):\n",
    "     f = list(string)\n",
    "     f[position] = character\n",
    "     string = ''.join(f)\n",
    "     return string\n",
    "\n",
    "if __name__ == '__main__':\n",
    "    s = input()\n",
    "    i, c = input().split()\n",
    "    s_new = mutate_string(s, int(i), c)\n",
    "    print(s_new)"
   ]
  },
  {
   "cell_type": "code",
   "execution_count": null,
   "id": "8f83c166",
   "metadata": {},
   "outputs": [],
   "source": [
    "#Find a string \n",
    "def count_substring(string, sub_string):\n",
    "    count = 0\n",
    "\n",
    "    for i in range(0,len(string)):\n",
    "        if string[i:i + len(sub_string)] == sub_string:\n",
    "            count += 1\n",
    "\n",
    "    return count\n",
    "        \n",
    "\n",
    "if __name__ == '__main__':\n",
    "    string = input().strip()\n",
    "    sub_string = input().strip()\n",
    "    \n",
    "    count = count_substring(string, sub_string)\n",
    "    print(count)"
   ]
  },
  {
   "cell_type": "code",
   "execution_count": null,
   "id": "720e8643",
   "metadata": {},
   "outputs": [],
   "source": [
    "#string validation\n",
    "if __name__ == '__main__':\n",
    "    s = input()\n",
    "    r = False\n",
    "    for i in s:\n",
    "        if i.isalnum():\n",
    "            r = True\n",
    "            break\n",
    "        \n",
    "    print(r)\n",
    "\n",
    "    r = False\n",
    "    for j in s:\n",
    "        if j.isalpha():\n",
    "            r = True\n",
    "            break\n",
    "    print(r)\n",
    "\n",
    "    r = False\n",
    "    for k in s:\n",
    "        if k.isdigit():\n",
    "            r = True\n",
    "            break\n",
    "    print(r)\n",
    "\n",
    "    r = False\n",
    "    for l in s:\n",
    "        if l.islower():\n",
    "            r = True\n",
    "            break\n",
    "    print(r)\n",
    "\n",
    "    r = False\n",
    "    for l in s:\n",
    "        if l.isupper():\n",
    "            r = True\n",
    "            break\n",
    "    print(r)\n",
    "\n"
   ]
  },
  {
   "cell_type": "code",
   "execution_count": null,
   "id": "46d9e76a",
   "metadata": {},
   "outputs": [],
   "source": [
    "#sWAP cASE\n",
    "\n",
    "def swap_case(s):\n",
    "    c=[]\n",
    "    for i in s:\n",
    "        if i.isupper():\n",
    "            i=i.lower()\n",
    "            c.append(i)\n",
    "        else:\n",
    "            i=i.upper()\n",
    "            c.append(i)\n",
    "    c=\"\".join(c)      \n",
    "    return c\n",
    "\n",
    "if __name__ == '__main__':\n",
    "    s = input()\n",
    "    result = swap_case(s)\n",
    "    print(result)"
   ]
  },
  {
   "cell_type": "code",
   "execution_count": null,
   "id": "08d56c2d",
   "metadata": {},
   "outputs": [],
   "source": [
    "#Test Alignment\n",
    "#Replace all ______ with rjust, ljust or center. \n",
    "\n",
    "thickness = int(input()) #This must be an odd number\n",
    "c = 'H'\n",
    "\n",
    "#Top Cone\n",
    "for i in range(thickness):\n",
    "    print((c*i).rjust(thickness-1)+c+(c*i).ljust(thickness-1))\n",
    "#Top Pillars\n",
    "for i in range(thickness+1):\n",
    "    print((c*thickness).center(thickness*2)+(c*thickness).center(thickness*6))\n",
    "#Middle Belt\n",
    "for i in range((thickness+1)//2):\n",
    "    print((c*thickness*5).center(thickness*6))    \n",
    "#Bottom Pillars\n",
    "for i in range(thickness+1):\n",
    "    print((c*thickness).center(thickness*2)+(c*thickness).center(thickness*6))    \n",
    "#Bottom Cone\n",
    "for i in range(thickness):\n",
    "    print(((c*(thickness-i-1)).rjust(thickness)+c+(c*(thickness-i-1)).ljust(thickness)).rjust(thickness*6))"
   ]
  },
  {
   "cell_type": "code",
   "execution_count": null,
   "id": "7ae54663",
   "metadata": {},
   "outputs": [],
   "source": [
    "#Text wrap\n",
    "import textwrap\n",
    "\n",
    "def wrap(string, max_width):\n",
    "    c=textwrap.wrap(string, width=max_width)\n",
    "    return '\\n'.join(c)\n",
    "\n",
    "if __name__ == '__main__':\n",
    "    string, max_width = input(), int(input())\n",
    "    result = wrap(string, max_width)\n",
    "    print(result)"
   ]
  },
  {
   "cell_type": "code",
   "execution_count": null,
   "id": "4f8d9b58",
   "metadata": {},
   "outputs": [],
   "source": [
    "#Designer door Mat\n",
    "def create_door_mat(N, M):\n",
    "    # Upper part of the door mat\n",
    "    for i in range(1, N, 2):\n",
    "        pattern = '.|.' * i\n",
    "        print(pattern.center(M, '-'))\n",
    "\n",
    "    # Welcome message\n",
    "    print('WELCOME'.center(M, '-'))\n",
    "\n",
    "    # Lower part of the door mat (mirror image of the upper part)\n",
    "    for i in range(N - 2, 0, -2):\n",
    "        pattern = '.|.' * i\n",
    "        print(pattern.center(M, '-'))\n",
    "\n",
    "if __name__ == '__main__':\n",
    "    N, M = map(int, input().split())\n",
    "    create_door_mat(N, M)"
   ]
  },
  {
   "cell_type": "code",
   "execution_count": null,
   "id": "eb286925",
   "metadata": {},
   "outputs": [],
   "source": [
    "#string formatting\n",
    "def print_formatted(number):\n",
    "    c=[]\n",
    "    for i in range(1,number+1):\n",
    "       o=oct(i) \n",
    "       e=hex(i).upper()\n",
    "       b=bin(i)\n",
    "       c.append((str(i), str(o)[2:], str(e)[2:], str(b)[2:]))\n",
    "    width = len(c[-1][3])\n",
    "\n",
    "    for c in c:\n",
    "        print(f\"{c[0].rjust(width)} {c[1].rjust(width)} {c[2].rjust(width)} {c[3].rjust(width)}\")\n",
    "        \n",
    "\n",
    "if __name__ == '__main__':\n",
    "    n = int(input())\n",
    "    print_formatted(n)"
   ]
  },
  {
   "cell_type": "code",
   "execution_count": null,
   "id": "b3316120",
   "metadata": {},
   "outputs": [],
   "source": [
    "#Alphabet Rangoli\n",
    "def print_rangoli(size):\n",
    "    alphabet = [chr(a) for a in range(ord('a'), ord('z') + 1)]\n",
    "    w= ((size * 2) - 1) + ((size - 1) * 2)\n",
    "\n",
    "    for i in range(size * 2 - 1):\n",
    "        line_size = (abs(size - abs(size - (i + 1))) * 2 - 1)\n",
    "        line = [alphabet[abs(size - abs((line_size // 2) - abs((line_size // 2) - x) + 1))] for x in range(line_size)]\n",
    "        line = '-'.join(line).center(w, '-')\n",
    "        print(line)"
   ]
  },
  {
   "cell_type": "code",
   "execution_count": null,
   "id": "4c5b6388",
   "metadata": {},
   "outputs": [],
   "source": [
    "#Capitalize!\n",
    "def solve(s):\n",
    "    c=''\n",
    "    space=True\n",
    "    for i in s:\n",
    "        if space and i!=' ':\n",
    "            c+=i.upper()\n",
    "            space= False\n",
    "        elif i==' ':\n",
    "            c+=i\n",
    "            space=True\n",
    "        else:\n",
    "            c+=i\n",
    "    return c"
   ]
  },
  {
   "cell_type": "code",
   "execution_count": null,
   "id": "14fa24c9",
   "metadata": {},
   "outputs": [],
   "source": [
    "#The Minion Game\n",
    "def minion_game(string):\n",
    "    voc='AEIOU'\n",
    "    kevin=0\n",
    "    stuart=0\n",
    "\n",
    "    for i in range(len(string)):\n",
    "        if string[i] in voc:\n",
    "            kevin += len(string)-i\n",
    "        else:\n",
    "            stuart += len(string)-i\n",
    "    if stuart > kevin:\n",
    "        print(f\"Stuart {stuart}\")\n",
    "    elif kevin > stuart:\n",
    "        print(f\"Kevin {kevin}\")\n",
    "    else:\n",
    "        print(\"Draw\")"
   ]
  },
  {
   "cell_type": "code",
   "execution_count": null,
   "id": "7c84c1aa",
   "metadata": {},
   "outputs": [],
   "source": [
    "#MERGE THE TOOLS\n",
    "def merge_the_tools(string, k):\n",
    "    lenGHT = len(string)\n",
    "\n",
    "    for i in range(0, lenGHT, k):\n",
    "        substring = string[i:i + k]\n",
    "        uni_C = ''.join(set(list(substring)))\n",
    "        print(uni_C)"
   ]
  },
  {
   "cell_type": "code",
   "execution_count": null,
   "id": "6f2a377d",
   "metadata": {},
   "outputs": [],
   "source": [
    "#SETS"
   ]
  },
  {
   "cell_type": "code",
   "execution_count": null,
   "id": "4f4b7786",
   "metadata": {},
   "outputs": [],
   "source": [
    "#Introduction to Sets\n",
    "def average(array):\n",
    "    # your code goes here\n",
    "    array=set(array)\n",
    "    avg= sum(array)/len(array)\n",
    "    return avg"
   ]
  },
  {
   "cell_type": "code",
   "execution_count": null,
   "id": "e99d7d7b",
   "metadata": {},
   "outputs": [],
   "source": [
    "#No Idea!\n",
    "n, m = input().split()\n",
    "\n",
    "sc_ar = input().split()\n",
    "\n",
    "A = set(input().split())\n",
    "B = set(input().split())\n",
    "print(sum([(i in A) - (i in B) for i in sc_ar]))\n",
    "#controllato online"
   ]
  },
  {
   "cell_type": "code",
   "execution_count": null,
   "id": "f59f99b5",
   "metadata": {},
   "outputs": [],
   "source": [
    "#Symmetric Difference\n",
    "a,b = [set(input().split()) for _ in range(4)][1::2]\n",
    "print('\\n'.join(sorted(a^b, key=int)))"
   ]
  },
  {
   "cell_type": "code",
   "execution_count": null,
   "id": "72b73baa",
   "metadata": {},
   "outputs": [],
   "source": [
    "#Set.add()\n",
    "n = int(input())\n",
    "stamp = set()\n",
    "for i in range(n):\n",
    "    stamp.add(input())\n",
    "print(len(stamp))"
   ]
  },
  {
   "cell_type": "code",
   "execution_count": null,
   "id": "844d7a6f",
   "metadata": {},
   "outputs": [],
   "source": [
    "#Set .discard(), .remove() & .pop()\n",
    "n = int(input())\n",
    "values = set(map(int, input().split()))\n",
    "number_of_coms = int(input())\n",
    "start = 0\n",
    "\n",
    "while start < number_of_coms:\n",
    "    query = input().split()\n",
    "    if query[0] == 'remove':\n",
    "        if int(query[1]) in values:\n",
    "            values.remove(int(query[1]))\n",
    "    elif query[0] == 'discard':\n",
    "        values.discard(int(query[1]))\n",
    "    elif query[0] == 'pop':\n",
    "        values.pop()\n",
    "    start += 1\n",
    "print(sum(values))"
   ]
  },
  {
   "cell_type": "code",
   "execution_count": null,
   "id": "dcf57480",
   "metadata": {},
   "outputs": [],
   "source": [
    "#Set .union() Operation\n",
    "n = int(input())\n",
    "l = list(input().split())\n",
    "m = int(input())\n",
    "k = list(input().split())\n",
    "s1 = set(l)\n",
    "s2 = set(k)\n",
    "print(len(s1.union(s2)))"
   ]
  },
  {
   "cell_type": "code",
   "execution_count": null,
   "id": "1e261719",
   "metadata": {},
   "outputs": [],
   "source": [
    "#Set .intersection() Operation\n",
    "studE=int(input())\n",
    "E_n=set(map(int,input().split(' ')))\n",
    "studF=int(input())\n",
    "F_n=set(map(int,input().split(' ')))\n",
    "print (len(F_n.intersection(E_n)))"
   ]
  },
  {
   "cell_type": "code",
   "execution_count": null,
   "id": "529a0fee",
   "metadata": {},
   "outputs": [],
   "source": [
    "#Set .difference() Operation\n",
    "studE=int(input())\n",
    "E_n=set(map(int,input().split(' ')))\n",
    "studF=int(input())\n",
    "F_n=set(map(int,input().split(' ')))\n",
    "print (len(E_n.difference(F_n)))"
   ]
  },
  {
   "cell_type": "code",
   "execution_count": null,
   "id": "44479c1d",
   "metadata": {},
   "outputs": [],
   "source": [
    "#Set .symmetric_difference() Operation\n",
    "studE=int(input())\n",
    "E_n=set(map(int,input().split(' ')))\n",
    "studF=int(input())\n",
    "F_n=set(map(int,input().split(' ')))\n",
    "print (len(E_n.symmetric_difference(F_n)))"
   ]
  },
  {
   "cell_type": "code",
   "execution_count": null,
   "id": "5a929bc5",
   "metadata": {},
   "outputs": [],
   "source": [
    "#Set Mutations\n",
    "ne=int(input())\n",
    "a=set(input().split())\n",
    "N=int(input())\n",
    "s=0\n",
    "\n",
    "for i in range(N):\n",
    "    c = input().split()\n",
    "    b = set(input().split())\n",
    "    if c[0]=='intersection_update':\n",
    "        a.intersection_update(b)\n",
    "    elif c[0]=='update':\n",
    "        a.update(b)\n",
    "    elif c[0]=='symmetric_difference_update':\n",
    "        a. symmetric_difference_update(b)\n",
    "    elif c[0]=='difference_update':\n",
    "        a. difference_update(b)\n",
    "for j in a:\n",
    "    s+=int(j)\n",
    "print(s)"
   ]
  },
  {
   "cell_type": "code",
   "execution_count": null,
   "id": "e33c4562",
   "metadata": {},
   "outputs": [],
   "source": [
    "#The Captain's Room\n",
    "K=int(input())\n",
    "Rooms=list(map(int, input().split()))\n",
    "l=set(Rooms)\n",
    "for i in Rooms:\n",
    "    l.discard(i)\n",
    "    if len(l)==1:\n",
    "        break\n",
    "print(l.pop())\n",
    "    "
   ]
  },
  {
   "cell_type": "code",
   "execution_count": null,
   "id": "0310ee29",
   "metadata": {},
   "outputs": [],
   "source": [
    "#Check Subset\n",
    "\n",
    "for _ in range(int(input())):\n",
    "    \n",
    "    a = int(input())\n",
    "    \n",
    "    A = set(map(int, input().split()))\n",
    "    \n",
    "    b = int(input())\n",
    "    \n",
    "    B = set(map(int, input().split()))\n",
    "    \n",
    "    print(A.issubset(B))\n"
   ]
  },
  {
   "cell_type": "code",
   "execution_count": null,
   "id": "07d1f7a3",
   "metadata": {},
   "outputs": [],
   "source": [
    "#Check Strict Superset\n",
    "A = set(map(int, input().split()))\n",
    "n = int(input())\n",
    "is_superset = True\n",
    "\n",
    "\n",
    "for _ in range(n):\n",
    "    B = set(map(int, input().split()))\n",
    "    if not (B.issubset(A) and B != A):\n",
    "        is_superset = False\n",
    "        break\n",
    "print(is_superset)\n"
   ]
  },
  {
   "cell_type": "code",
   "execution_count": null,
   "id": "f887d8f6",
   "metadata": {},
   "outputs": [],
   "source": [
    "#COLLECTIONS"
   ]
  },
  {
   "cell_type": "code",
   "execution_count": null,
   "id": "cca49fad",
   "metadata": {},
   "outputs": [],
   "source": [
    "#collections.Counter()\n",
    "from collections import Counter\n",
    "X=int(input())\n",
    "shoe_s=Counter(map(int, input().split()))\n",
    "N=int(input())\n",
    "c=0\n",
    "for i in range(N):\n",
    "    size, price = map(int, input().split())\n",
    "    if shoe_s[size]: \n",
    "        c += price\n",
    "        shoe_s[size] -= 1\n",
    "\n",
    "print(c)"
   ]
  },
  {
   "cell_type": "code",
   "execution_count": null,
   "id": "fc5dc8d2",
   "metadata": {},
   "outputs": [],
   "source": [
    "#DefaultDict Tutorial\n",
    "from collections import defaultdict\n",
    "n, m=map(int,input().split())\n",
    "d=defaultdict(list)\n",
    "A=[]\n",
    "B=[]\n",
    "for _ in range(n):\n",
    "    A.append(input())\n",
    "    \n",
    "for _ in range(m):\n",
    "    B.append(input())\n",
    "    \n",
    "\n",
    "for i in range(len(A)):\n",
    "    d[A[i]].append(i+1)\n",
    "    \n",
    "for i in range(len(B)):\n",
    "    if len(d[B[i]])>0:\n",
    "        print(*d[B[i]])\n",
    "    else:\n",
    "        print(-1)"
   ]
  },
  {
   "cell_type": "code",
   "execution_count": null,
   "id": "c1d92189",
   "metadata": {},
   "outputs": [],
   "source": [
    "#Collections.namedtuple()\n",
    "from collections import namedtuple\n",
    "N=int(input())\n",
    "names=namedtuple('names', input().split())\n",
    "print(sum([int(names(*(input().split())).MARKS) for _ in range(N)])/N)"
   ]
  },
  {
   "cell_type": "code",
   "execution_count": 1,
   "id": "ba2fab1e",
   "metadata": {},
   "outputs": [],
   "source": [
    "#Collections.OrderedDict()\n",
    "from collections import OrderedDict\n",
    " \n",
    "n = int(input())\n",
    "\n",
    "ORD_DIC = OrderedDict()\n",
    "\n",
    "for _ in range(n):\n",
    "    *item, net = input().split()\n",
    "    item_name = \" \".join(item)\n",
    "    try:\n",
    "        ORD_DIC[item_name] += int(net)\n",
    "    except KeyError:\n",
    "        ORD_DIC[item_name] = int(net)\n",
    "     \n",
    "for k in ORD_DIC:\n",
    "    print(k, ORD_DIC[k])"
   ]
  },
  {
   "cell_type": "code",
   "execution_count": null,
   "id": "d8774458",
   "metadata": {},
   "outputs": [],
   "source": [
    "#Word Order\n",
    "from collections import Counter\n",
    "\n",
    "n=int(input())\n",
    "words = []\n",
    "for i in range(n):\n",
    "    words.append(input())\n",
    "    \n",
    "dictionary = Counter(words)\n",
    "print(len(dictionary))\n",
    "\n",
    "for key in dictionary:\n",
    "    print(dictionary[key], end=' ')"
   ]
  },
  {
   "cell_type": "code",
   "execution_count": null,
   "id": "e4df76ad",
   "metadata": {},
   "outputs": [],
   "source": [
    "#Collections.deque()\n",
    "from collections import deque\n",
    "d = deque()\n",
    "n=int(input())\n",
    "\n",
    "\n",
    "for i in range(n):\n",
    "    i=input()\n",
    "    c = i.split()\n",
    "    if c[0]=='append':\n",
    "        d.append(c[1])\n",
    "    elif c[0]=='appendleft':\n",
    "        d.appendleft(c[1])\n",
    "    elif c[0]=='pop':\n",
    "        d. pop()\n",
    "    elif c[0]=='popleft':\n",
    "        d. popleft()\n",
    "for j in range(len(d)):\n",
    "    print(d[j], end=' ')"
   ]
  },
  {
   "cell_type": "code",
   "execution_count": null,
   "id": "13d70504",
   "metadata": {},
   "outputs": [],
   "source": [
    "#Company Logo\n",
    "import math\n",
    "import os\n",
    "import random\n",
    "import re\n",
    "import sys\n",
    "from collections import Counter\n",
    "\n",
    "\n",
    "\n",
    "if __name__ == '__main__':\n",
    "    s = input()\n",
    "    s=sorted(s)\n",
    "    d=Counter(s)\n",
    "    m = d.most_common(3)\n",
    "    for i in m:\n",
    "        print(str(i[0]) + ' ' + str(i[1]))"
   ]
  },
  {
   "cell_type": "code",
   "execution_count": null,
   "id": "d35dbec4",
   "metadata": {},
   "outputs": [],
   "source": [
    "#Pilling Up!\n",
    "T=int(input())\n",
    "from collections import deque\n",
    "\n",
    "for _ in range(T):\n",
    "    size = int(input())\n",
    "    blocks = deque(map(int,input().split()))\n",
    "    r = float('inf')\n",
    "    yn = True\n",
    "    \n",
    "    while(len(blocks) > 1 and yn):\n",
    "        \n",
    "        left, right = blocks[0], blocks[-1]\n",
    "        if left <=  r and right <= r:\n",
    "            \n",
    "            if left >= right:\n",
    "                r = blocks.popleft()\n",
    "            else: r = blocks.pop()\n",
    "        \n",
    "        else: yn = False\n",
    "    \n",
    "    print(\"Yes\") if yn and blocks[0] <= r else print(\"No\")"
   ]
  },
  {
   "cell_type": "code",
   "execution_count": null,
   "id": "b67b4b39",
   "metadata": {},
   "outputs": [],
   "source": [
    "#DateandTime"
   ]
  },
  {
   "cell_type": "code",
   "execution_count": null,
   "id": "c4b1275d",
   "metadata": {},
   "outputs": [],
   "source": [
    "#Calendar Module\n",
    "import calendar\n",
    "MM, DD, YYYY = map(int,input().split())\n",
    "\n",
    "print((calendar.day_name[calendar.weekday(YYYY, MM, DD)]).upper())"
   ]
  },
  {
   "cell_type": "code",
   "execution_count": null,
   "id": "0d6a90c6",
   "metadata": {},
   "outputs": [],
   "source": [
    "#Time Delta\n",
    "import time\n",
    "from datetime import datetime, timedelta\n",
    "def time_delta(t1, t2):\n",
    "    format_string = \"%a %d %b %Y %H:%M:%S %z\" \n",
    "    dt1 = datetime.strptime(t1, format_string)\n",
    "    dt2 = datetime.strptime(t2, format_string) \n",
    "    diff = abs(dt1 - dt2)\n",
    "    return str(int(diff.total_seconds()))\n",
    "\n",
    "if __name__ == '__main__':\n",
    "    fptr = open(os.environ['OUTPUT_PATH'], 'w')\n",
    "\n",
    "    t = int(input())\n",
    "\n",
    "    for t_itr in range(t):\n",
    "        t1 = input()\n",
    "\n",
    "        t2 = input()\n",
    "\n",
    "        delta = time_delta(t1, t2)\n",
    "\n",
    "        fptr.write(delta + '\\n')\n",
    "\n",
    "    fptr.close()"
   ]
  },
  {
   "cell_type": "code",
   "execution_count": null,
   "id": "f3144ae3",
   "metadata": {},
   "outputs": [],
   "source": [
    "#Exceptions"
   ]
  },
  {
   "cell_type": "code",
   "execution_count": null,
   "id": "a5799ed2",
   "metadata": {},
   "outputs": [],
   "source": [
    "#Exceptions\n",
    "t=int(input())\n",
    "for i in range(t):\n",
    "    a,b=input().split()\n",
    "    try:\n",
    "        print(int(int(a)/int(b)))\n",
    "    except ValueError as z:\n",
    "        print('Error Code:', z)\n",
    "    except ZeroDivisionError:\n",
    "        print('Error Code: integer division or modulo by zero')"
   ]
  },
  {
   "cell_type": "code",
   "execution_count": null,
   "id": "f6128bd3",
   "metadata": {},
   "outputs": [],
   "source": [
    "#Built-ins"
   ]
  },
  {
   "cell_type": "code",
   "execution_count": null,
   "id": "d150e580",
   "metadata": {},
   "outputs": [],
   "source": [
    "#zipped\n",
    "import statistics\n",
    "n,x=map(int,input().split(' '))\n",
    "\n",
    "c = []\n",
    "for _ in range(x):\n",
    "    c.append(list(map(float,input().split())))\n",
    "v=list(zip(*c))\n",
    "for i in range(len(v)):\n",
    "    print(statistics.mean(v[i]))"
   ]
  },
  {
   "cell_type": "code",
   "execution_count": null,
   "id": "cc76209c",
   "metadata": {},
   "outputs": [],
   "source": [
    "#Athlete Sort\n",
    "import math\n",
    "import os\n",
    "import random\n",
    "import re\n",
    "import sys\n",
    "\n",
    "\n",
    "if __name__ == '__main__':\n",
    "    nm = input().split()\n",
    "\n",
    "    n = int(nm[0])\n",
    "\n",
    "    m = int(nm[1])\n",
    "\n",
    "    arr = []\n",
    "\n",
    "    for _ in range(n):\n",
    "        arr.append(list(map(int, input().rstrip().split())))\n",
    "    k = int(input())\n",
    "    arr.sort(key=lambda x: x[k])\n",
    "    for _ in range(n):\n",
    "        print(\" \".join(map(str, arr[_])))"
   ]
  },
  {
   "cell_type": "code",
   "execution_count": null,
   "id": "5fa4a5b0",
   "metadata": {},
   "outputs": [],
   "source": [
    "#ginorts\n",
    "s=input()\n",
    "l = sorted([i for i in s if i.islower()])\n",
    "u = sorted([i for i in s if i.isupper()])\n",
    "d= sorted([i for i in s if i.isdigit() and int(i) % 2 != 0])\n",
    "e = sorted([i for i in s if i.isdigit() and int(i) % 2 == 0])\n",
    "\n",
    "res = l + u + d + e\n",
    "print(\"\".join(res))"
   ]
  },
  {
   "cell_type": "code",
   "execution_count": null,
   "id": "e634f352",
   "metadata": {},
   "outputs": [],
   "source": [
    "#Python Functionals"
   ]
  },
  {
   "cell_type": "code",
   "execution_count": null,
   "id": "67ee8bd8",
   "metadata": {},
   "outputs": [],
   "source": [
    "#Map and Lambda Function\n",
    "cube = lambda x:x**3 # complete the lambda function \n",
    "\n",
    "def fibonacci(n):\n",
    "    # return a list of fibonacci numbers\n",
    "    if n > 2:\n",
    "        fn = [0, 1]\n",
    "        fn0, fn1= 0, 1\n",
    "        for x in range(n-2):\n",
    "            n1=fn[fn0]\n",
    "            n2=fn[fn1]\n",
    "            fn.append(n1+n2)\n",
    "            fn0 += 1\n",
    "            fn1 += 1\n",
    "\n",
    "    else:\n",
    "        fn = [x for x in range(n)]\n",
    "    return fn\n",
    "\n",
    "if __name__ == '__main__':\n",
    "    n = int(input())\n",
    "    print(list(map(cube, fibonacci(n))))"
   ]
  },
  {
   "cell_type": "code",
   "execution_count": null,
   "id": "d6eff48a",
   "metadata": {},
   "outputs": [],
   "source": [
    "#RegexandParsingchallenges"
   ]
  },
  {
   "cell_type": "code",
   "execution_count": null,
   "id": "7220694f",
   "metadata": {},
   "outputs": [],
   "source": [
    "#Detect Floating Point Number\n",
    "from re import search\n",
    "t=int(input())\n",
    "for i in range(t):\n",
    "    print(search(r\"^([\\+\\-]){0,1}\\d*\\.\\d+$\", input()) is not None)"
   ]
  },
  {
   "cell_type": "code",
   "execution_count": null,
   "id": "2e87aa90",
   "metadata": {},
   "outputs": [],
   "source": [
    "#Re.split()\n",
    "regex_pattern = r\"\\W\"\t# Do not delete 'r'.\n",
    "\n",
    "import re\n",
    "print(\"\\n\".join(re.split(regex_pattern, input())))"
   ]
  },
  {
   "cell_type": "code",
   "execution_count": null,
   "id": "6c2f20ff",
   "metadata": {},
   "outputs": [],
   "source": [
    "#Group(), Groups() & Groupdict()\n",
    "import re\n",
    "pattern = re.compile(r'([a-zA-Z0-9])\\1{1,}')\n",
    "match=re.search(pattern,input())\n",
    "print(match.group(1) if match else -1)"
   ]
  },
  {
   "cell_type": "code",
   "execution_count": null,
   "id": "97ddb5c0",
   "metadata": {},
   "outputs": [],
   "source": [
    "#Re.findall() & Re.finditer()\n",
    "import re\n",
    "b = []\n",
    "for i in re.finditer(r'(?<=[QWRTYPSDFGHJKLZXCVBNMqwrtypsdfghjklzxcvbnm])([aeiouAEIOU]{2,})(?=[QWRTYPSDFGHJKLZXCVBNMqwrtypsdfghjklzxcvbnm])', input()):\n",
    "    print(i.group())\n",
    "    b.append(i.group())\n",
    "if b == []:\n",
    "    print(-1)"
   ]
  },
  {
   "cell_type": "code",
   "execution_count": null,
   "id": "458b0bdd",
   "metadata": {},
   "outputs": [],
   "source": [
    "#Re.start() & Re.end()\n",
    "s = input()\n",
    "k = input()\n",
    "c = []\n",
    "\n",
    "for i in range(len(s)):\n",
    "    if s[i:i + len(k)] == k:\n",
    "        start = i \n",
    "        end = i + len(k) - 1 \n",
    "        c.append((start, end))\n",
    "\n",
    "if len(c) > 0:\n",
    "    for j in c:\n",
    "        print(j)\n",
    "else:\n",
    "    print((-1, -1))"
   ]
  },
  {
   "cell_type": "code",
   "execution_count": null,
   "id": "0daac747",
   "metadata": {},
   "outputs": [],
   "source": [
    "#Regex Substitution\n",
    "import re\n",
    "n = int(input())\n",
    "for _ in range(0, n):\n",
    "    T = input()\n",
    "    T = re.sub(r'\\ [\\&]{2,2}\\ ', ' and ', T)\n",
    "    T= re.sub(r'\\ [\\|]{2,2}\\ ', ' or ', T)\n",
    "    T = re.sub(r'\\ [\\&]{2,2}\\ ', ' and ', T)\n",
    "    T = re.sub(r'\\ [\\|]{2,2}\\ ', ' or ', T)\n",
    "    print(T)"
   ]
  },
  {
   "cell_type": "code",
   "execution_count": null,
   "id": "2a983ade",
   "metadata": {},
   "outputs": [],
   "source": [
    "#Validating Roman Numerals\n",
    "regex_pattern = r\"^(?!$)(M{1,3})?(CD|CM|D?C{1,3})?(XL|XC|L?X{1,3})?(IV|IX|V?I{1,3})?$\"\t# Do not delete 'r'.\n",
    "\n",
    "import re"
   ]
  },
  {
   "cell_type": "code",
   "execution_count": null,
   "id": "17a96984",
   "metadata": {},
   "outputs": [],
   "source": [
    "#Validating phone numbers\n",
    "import re\n",
    "\n",
    "A = r'^[7-9]{1}[0-9]{9}$'\n",
    "\n",
    "n = int(input())\n",
    "for _ in range(0, n):\n",
    "    NUM = input()\n",
    "    match = re.match(A, NUM)\n",
    "    \n",
    "    if match:\n",
    "        print('YES')\n",
    "    else:\n",
    "        print('NO')"
   ]
  },
  {
   "cell_type": "code",
   "execution_count": null,
   "id": "5a4b2019",
   "metadata": {},
   "outputs": [],
   "source": [
    "#Validating and Parsing Email Addresses\n",
    "from re import search\n",
    "\n",
    "n = int(input())\n",
    "L = \"\"\n",
    "pattern = r\"<[a-zA-Z]([\\w\\.\\-])+@([a-zA-Z])+\\.([a-zA-Z]){1,3}>$\"\n",
    "\n",
    "for _ in range(n):\n",
    "    L = input()\n",
    "    if search(pattern, L) is not None:\n",
    "        print(L)"
   ]
  },
  {
   "cell_type": "code",
   "execution_count": null,
   "id": "e9053ec9",
   "metadata": {},
   "outputs": [],
   "source": [
    "#Hex Color Code\n",
    "N=int(input())\n",
    "import re\n",
    "pattern = r'(?!^)(#([\\dA-Fa-f]{3}){1,2})'\n",
    "\n",
    "for i in range(N):\n",
    "    m = re.findall(pattern, input())\n",
    "    [print(s[0]) for s in m if m]"
   ]
  },
  {
   "cell_type": "code",
   "execution_count": null,
   "id": "eabc9e27",
   "metadata": {},
   "outputs": [],
   "source": [
    "#HTML Parser - Part 1\n",
    "from html.parser import HTMLParser\n",
    "n = int(input())\n",
    "class parser(HTMLParser):\n",
    "    def handle_starttag(self, tag, attrs):\n",
    "        print(\"Start :\", tag)\n",
    "        for i in attrs:\n",
    "            l = list(i)\n",
    "            print('->', i[0], '>', i[1])\n",
    "    def handle_endtag(self, tag):\n",
    "        print(\"End   :\", tag)\n",
    "    def handle_startendtag(self, tag, attrs):\n",
    "        print(\"Empty :\", tag)\n",
    "        for i in attrs:\n",
    "            print('->', i[0], '>', i[1])   \n",
    "parser = parser()\n",
    "html_input = '\\n'.join([input() for _ in range(n)])\n",
    "parser.feed(html_input)"
   ]
  },
  {
   "cell_type": "code",
   "execution_count": null,
   "id": "40d9aeab",
   "metadata": {},
   "outputs": [],
   "source": [
    "#HTML Parser - Part 2\n",
    "from html.parser import HTMLParser\n",
    "\n",
    "class MyHTMLParser(HTMLParser):\n",
    "    def handle_comment(self, data):\n",
    "        if '\\n' in data:\n",
    "            print('>>> Multi-line Comment')\n",
    "            print(data)\n",
    "        else:\n",
    "            print('>>> Single-line Comment')\n",
    "            print(data)\n",
    "    def handle_data(self,data):\n",
    "        if '\\n' not in data:\n",
    "            print('>>> Data')\n",
    "            print(data)\n",
    "  \n",
    "html = \"\"       \n",
    "for i in range(int(input())):\n",
    "    html += input().rstrip()\n",
    "    html += '\\n'\n",
    "    \n",
    "parser = MyHTMLParser()\n",
    "parser.feed(html)\n",
    "parser.close()"
   ]
  },
  {
   "cell_type": "code",
   "execution_count": null,
   "id": "fa74fdd2",
   "metadata": {},
   "outputs": [],
   "source": [
    "#Detect HTML Tags, Attributes and Attribute Values\n",
    "from html.parser import HTMLParser\n",
    "class MyHTMLParser(HTMLParser):\n",
    "    def handle_starttag(self, tag, attrs):\n",
    "        print(tag)\n",
    "        [print('-> {} > {}'.format(*attr)) for attr in attrs]\n",
    "        \n",
    "html = '\\n'.join([input() for _ in range(int(input()))])\n",
    "parser = MyHTMLParser()\n",
    "parser.feed(html)\n",
    "parser.close()"
   ]
  },
  {
   "cell_type": "code",
   "execution_count": null,
   "id": "a17a3dd3",
   "metadata": {},
   "outputs": [],
   "source": [
    "#Validating UID\n",
    "import re\n",
    "\n",
    "for i in range(int(input())):\n",
    "    N = input().strip()\n",
    "    if N.isalnum() and len(N) == 10:\n",
    "        if bool(re.search(r'(.*[A-Z]){2,}',N)) and bool(re.search(r'(.*[0-9]){3,}',N)):\n",
    "            if re.search(r'.*(.).*\\1+.*',N):\n",
    "                print ('Invalid')\n",
    "            else:\n",
    "                print ('Valid')\n",
    "        else:\n",
    "            print ('Invalid')\n",
    "    else:\n",
    "        print ('Invalid')"
   ]
  },
  {
   "cell_type": "code",
   "execution_count": null,
   "id": "9ce26088",
   "metadata": {},
   "outputs": [],
   "source": [
    "#Validating Credit Card Numbers\n",
    "import re\n",
    "n = int(input())\n",
    "for i in range(n):\n",
    "    v= bool(re.match(r'^(?=(?:\\D*\\d){16}$)(?!.*(\\d)(?:-?\\1){3})[456]\\d{3}-?\\d{4}-?\\d{4}-?\\d{4}$', input()))\n",
    "    if v :\n",
    "        print('Valid')\n",
    "    else:\n",
    "        print('Invalid')"
   ]
  },
  {
   "cell_type": "code",
   "execution_count": null,
   "id": "b6f241eb",
   "metadata": {},
   "outputs": [],
   "source": [
    "#Validating Postal Codes\n",
    "regex_integer_in_range = r\"^[1-9]\\d{5}$\"\t# Do not delete 'r'.\n",
    "regex_alternating_repetitive_digit_pair = r\"(\\d)(?=\\d\\1)\"\t# Do not delete 'r'.\n"
   ]
  },
  {
   "cell_type": "code",
   "execution_count": null,
   "id": "74227b7d",
   "metadata": {},
   "outputs": [],
   "source": [
    "#Matrix Script\n",
    "for _ in range(n):\n",
    "    matrix_item = input()\n",
    "    matrix.append(matrix_item)\n",
    "s=\"\"\n",
    "for i in range(m):\n",
    "    for j in range(n):\n",
    "        s+=matrix[j][i]\n",
    "pattern=r\"(?<=[a-zA-Z0-9])[\\s!@#$%&]+(?=[a-zA-Z0-9])\"\n",
    "s=re.sub(pattern, \" \", s)\n",
    "print(s)"
   ]
  },
  {
   "cell_type": "code",
   "execution_count": null,
   "id": "645b7c4a",
   "metadata": {},
   "outputs": [],
   "source": []
  },
  {
   "cell_type": "code",
   "execution_count": null,
   "id": "a0d2bb1d",
   "metadata": {},
   "outputs": [],
   "source": [
    "#XML"
   ]
  },
  {
   "cell_type": "code",
   "execution_count": null,
   "id": "d6874509",
   "metadata": {},
   "outputs": [],
   "source": [
    "#XML-1 find the score\n",
    "import sys\n",
    "import xml.etree.ElementTree as etree\n",
    "\n",
    "def get_attr_number(node):\n",
    "    return len(node.keys()) + sum(get_attr_number(x) for x in node)\n",
    "\n",
    "if __name__ == '__main__':\n",
    "    sys.stdin.readline()\n",
    "    xml = sys.stdin.read()\n",
    "    tree = etree.ElementTree(etree.fromstring(xml))\n",
    "    root = tree.getroot()\n",
    "    print(get_attr_number(root))"
   ]
  },
  {
   "cell_type": "code",
   "execution_count": null,
   "id": "5bb45fdb",
   "metadata": {},
   "outputs": [],
   "source": [
    "#XML-2 find the maximum depth\n",
    "import xml.etree.ElementTree as etree\n",
    "\n",
    "maxdepth = 0\n",
    "def depth(elem, level):\n",
    "    global maxdepth\n",
    "    e = list(elem.iter())\n",
    "    if len(e) == 1:\n",
    "        maxdepth = max(maxdepth, level+1)\n",
    "    else:\n",
    "        for i in range(1, len(e)):\n",
    "            depth(e[i], level+1)\n",
    "\n",
    "if __name__ == '__main__':\n",
    "    n = int(input())\n",
    "    xml = \"\"\n",
    "    for i in range(n):\n",
    "        xml =  xml + input() + \"\\n\"\n",
    "    tree = etree.ElementTree(etree.fromstring(xml))\n",
    "    depth(tree.getroot(), -1)\n",
    "    print(maxdepth)"
   ]
  },
  {
   "cell_type": "code",
   "execution_count": null,
   "id": "f834136d",
   "metadata": {},
   "outputs": [],
   "source": [
    "#Closures and Decorators"
   ]
  },
  {
   "cell_type": "code",
   "execution_count": null,
   "id": "d6fb09dd",
   "metadata": {},
   "outputs": [],
   "source": [
    "#Standardize Mobile Number Using Decorators\n",
    "def wrapper(f):\n",
    "    def fun(l):\n",
    "        k = []\n",
    "        for number in l:\n",
    "            k.append(f\"+91 {number[-10:-5]} {number[-5:]}\")\n",
    "        f(k)\n",
    "    return fun"
   ]
  },
  {
   "cell_type": "code",
   "execution_count": null,
   "id": "5f86d861",
   "metadata": {},
   "outputs": [],
   "source": [
    "#Decorators 2 - Name Directory\n",
    "import operator\n",
    "\n",
    "def person_lister(f):\n",
    "    def inner(people):\n",
    "        return [f(person) for person in sorted(people, key=lambda x: int(x[2]))]\n",
    "    return inner"
   ]
  },
  {
   "cell_type": "code",
   "execution_count": null,
   "id": "4ead86a7",
   "metadata": {},
   "outputs": [],
   "source": [
    "#Numpy"
   ]
  },
  {
   "cell_type": "code",
   "execution_count": null,
   "id": "59237c96",
   "metadata": {},
   "outputs": [],
   "source": [
    "#Arrays\n",
    "import numpy\n",
    "\n",
    "def arrays(arr):\n",
    "    c=numpy.array(arr[::-1],float)\n",
    "    \n",
    "    return c\n",
    "\n",
    "arr = input().strip().split(' ')\n",
    "result = arrays(arr)\n",
    "print(result)"
   ]
  },
  {
   "cell_type": "code",
   "execution_count": null,
   "id": "b2075966",
   "metadata": {},
   "outputs": [],
   "source": [
    "#shape and reshape\n",
    "import numpy\n",
    "\n",
    "c=list(map(int, input().split()))\n",
    "print(numpy.reshape(c,(3,3)))\n"
   ]
  },
  {
   "cell_type": "code",
   "execution_count": null,
   "id": "27078cc1",
   "metadata": {},
   "outputs": [],
   "source": [
    "#Transpose and Flatten\n",
    "import numpy\n",
    "n, m = map(int, input().split())\n",
    "c = numpy.array([input().strip().split() for _ in range(n)], int)\n",
    "print(numpy.transpose(c))\n",
    "print(c.flatten())"
   ]
  },
  {
   "cell_type": "code",
   "execution_count": null,
   "id": "88b05ef3",
   "metadata": {},
   "outputs": [],
   "source": [
    "#Concatenate\n",
    "import numpy\n",
    "n, m, p = map(int, input().split())\n",
    "c = numpy.array([input().split() for _ in range(n)], int)\n",
    "c1 = numpy.array([input().split() for _ in range(m)], int)\n",
    "print(numpy.concatenate((c, c1), axis=0))"
   ]
  },
  {
   "cell_type": "code",
   "execution_count": null,
   "id": "edf5ea2e",
   "metadata": {},
   "outputs": [],
   "source": [
    "#Zeros and Ones\n",
    "import numpy\n",
    "n= list(map(int, input().split()))\n",
    "n=numpy.array(n)\n",
    "print(numpy.zeros(n,dtype=int))\n",
    "print(numpy.ones(n,dtype=int))"
   ]
  },
  {
   "cell_type": "code",
   "execution_count": null,
   "id": "e284375b",
   "metadata": {},
   "outputs": [],
   "source": [
    "#Eye and Identity\n",
    "import numpy\n",
    "numpy.set_printoptions(legacy='1.13')\n",
    "n, m = map(int, input().split())\n",
    "\n",
    "print(numpy.eye(n,m))"
   ]
  },
  {
   "cell_type": "code",
   "execution_count": null,
   "id": "d4417b24",
   "metadata": {},
   "outputs": [],
   "source": [
    "#Array Mathematics\n",
    "import numpy\n",
    "n= tuple(map(int, input().split()))\n",
    "a,b = [numpy.array([input().split() for _ in range(n[0])],int) for i in range(2)]\n",
    "print(numpy.add(a, b))\n",
    "print(numpy.subtract(a, b))\n",
    "print(numpy.multiply(a, b))\n",
    "print(numpy.floor_divide(a, b))\n",
    "print(numpy.mod(a, b))\n",
    "print(numpy.power(a, b) )"
   ]
  },
  {
   "cell_type": "code",
   "execution_count": null,
   "id": "31077d43",
   "metadata": {},
   "outputs": [],
   "source": [
    "#Floor, Ceil and Rint\n",
    "import numpy\n",
    "numpy.set_printoptions(legacy='1.13')\n",
    "A = numpy.array(input().split(), float)\n",
    "\n",
    "print(numpy.floor(A))\n",
    "print(numpy.ceil(A))\n",
    "print(numpy.rint(A))\n"
   ]
  },
  {
   "cell_type": "code",
   "execution_count": null,
   "id": "194d31e5",
   "metadata": {},
   "outputs": [],
   "source": [
    "#Sum and Prod\n",
    "import numpy as np\n",
    "\n",
    "n, _ = map(int, input().split())\n",
    "x = []\n",
    "\n",
    "for _ in range(n):\n",
    "    x.append(list(map(int, input().split())))\n",
    "h=np.sum(x,axis=0)\n",
    "\n",
    "print(np.prod(h,axis=0))"
   ]
  },
  {
   "cell_type": "code",
   "execution_count": null,
   "id": "5724dc52",
   "metadata": {},
   "outputs": [],
   "source": [
    "#Min and Max\n",
    "import numpy\n",
    "\n",
    "n, _ = map(int, input().split())\n",
    "x = []\n",
    "\n",
    "for _ in range(n):\n",
    "    x.append(list(map(int, input().split())))\n",
    "g=numpy.min(x,axis=1)\n",
    "\n",
    "print(numpy.max(g))"
   ]
  },
  {
   "cell_type": "code",
   "execution_count": null,
   "id": "89de795e",
   "metadata": {},
   "outputs": [],
   "source": [
    "#Mean, Var, and Std\n",
    "import numpy\n",
    "n, _ = map(int, input().split())\n",
    "x = []\n",
    "\n",
    "for _ in range(n):\n",
    "    x.append(list(map(int, input().split())))\n",
    "\n",
    "print (numpy.mean(x, axis = 1))\n",
    "print (numpy.var(x, axis = 0))\n",
    "print (numpy.std(x,axis=None).round(11))"
   ]
  },
  {
   "cell_type": "code",
   "execution_count": null,
   "id": "44316a89",
   "metadata": {},
   "outputs": [],
   "source": [
    "#Dot and Cross\n",
    "import numpy\n",
    "n = int(input())\n",
    "a = [list(map(int, input().split())) for _ in range(n)]\n",
    "b = [list(map(int, input().split())) for _ in range(n)]\n",
    "print(numpy.dot(a,b))"
   ]
  },
  {
   "cell_type": "code",
   "execution_count": null,
   "id": "e00e1dea",
   "metadata": {},
   "outputs": [],
   "source": [
    "#Inner and Outer\n",
    "import numpy\n",
    "\n",
    "a = list(map(int, input().split()))\n",
    "b = list(map(int, input().split()))\n",
    "\n",
    "print(numpy.inner(a, b))\n",
    "print(numpy.outer(a, b))"
   ]
  },
  {
   "cell_type": "code",
   "execution_count": null,
   "id": "1722da42",
   "metadata": {},
   "outputs": [],
   "source": [
    "#Polynomials\n",
    "import numpy\n",
    "a = list(map(float, input().split()))\n",
    "n=float(input())\n",
    "print(numpy.polyval(a,n))"
   ]
  },
  {
   "cell_type": "code",
   "execution_count": null,
   "id": "35b555c9",
   "metadata": {},
   "outputs": [],
   "source": [
    "#Linear Algebra\n",
    "import numpy\n",
    "n=int(input())\n",
    "a = [list(map(float, input().split())) for _ in range(n)]\n",
    "\n",
    "print(round(numpy.linalg.det(a),2))"
   ]
  },
  {
   "cell_type": "code",
   "execution_count": null,
   "id": "4f0a83da",
   "metadata": {},
   "outputs": [],
   "source": [
    "#PROBLM 2"
   ]
  },
  {
   "cell_type": "code",
   "execution_count": null,
   "id": "7e4fa308",
   "metadata": {},
   "outputs": [],
   "source": [
    "#Birthday cake challenge\n",
    "def birthdayCakeCandles(candles):\n",
    "    \n",
    "    candles.sort(reverse=True)\n",
    "    maximo = candles[0]\n",
    "    \n",
    "\n",
    "    \n",
    "    for i in range(len(candles)):\n",
    "        if(candles[i]!= maximo):\n",
    "            break\n",
    "        else:\n",
    "            i+=1\n",
    "    return i \n"
   ]
  },
  {
   "cell_type": "code",
   "execution_count": null,
   "id": "9f970e72",
   "metadata": {},
   "outputs": [],
   "source": [
    "#Kangoroo challenge\n",
    "def kangaroo(x1, v1, x2, v2):\n",
    "    n = v1*x2\n",
    "    if x1 <= x2 and v1<= v2:\n",
    "            return \"NO\"\n",
    "    for _ in range(n):\n",
    "        if x1 == x2:\n",
    "            return \"YES\"\n",
    "        \n",
    "        x1 += v1\n",
    "        x2 += v2\n",
    "    return \"NO\""
   ]
  },
  {
   "cell_type": "code",
   "execution_count": null,
   "id": "7a0ea707",
   "metadata": {},
   "outputs": [],
   "source": [
    "#Viral Advertising\n",
    "def viralAdvertising(n):\n",
    "    s =5\n",
    "    c=0\n",
    "    for i in range(1,n+1):\n",
    "        liked = s//2\n",
    "        c+=liked\n",
    "        s = liked*3\n",
    "    return c\n"
   ]
  },
  {
   "cell_type": "code",
   "execution_count": null,
   "id": "68399a14",
   "metadata": {},
   "outputs": [],
   "source": [
    "#Recursive Digit Sum\n",
    "def superDigit(n, k):\n",
    "    # Write your code here\n",
    "    somma = 0\n",
    "    \n",
    "    if (len(n) == 1 and k > 0):\n",
    "        n*=k\n",
    "        k = -1\n",
    "        \n",
    "    if (len(n) == 1 and k < 0):\n",
    "        return int(n)\n",
    "        \n",
    "    somma = sum(int(carattere) for carattere in n)\n",
    "    return superDigit(str(somma),k)"
   ]
  },
  {
   "cell_type": "code",
   "execution_count": null,
   "id": "acaa2138",
   "metadata": {},
   "outputs": [],
   "source": [
    "#Insertion Sort - Part 1\n",
    "def insertionSort1(n, arr):\n",
    "    value = arr[-1]\n",
    "    s = sorted(arr)\n",
    "    \n",
    "    for i in arr[-2::-1]:\n",
    "        if arr == s:\n",
    "            break\n",
    "        elif i > value:\n",
    "            arr[arr.index(i) + 1] = i\n",
    "        else:\n",
    "            arr[arr.index(i) + 1] = value\n",
    "        print(*arr)\n",
    "    else:\n",
    "        if arr != s: \n",
    "            arr[0] = value\n",
    "            print(*arr)"
   ]
  },
  {
   "cell_type": "code",
   "execution_count": null,
   "id": "e2a6299d",
   "metadata": {},
   "outputs": [],
   "source": [
    "#Insertion Sort - Part 2\n",
    "def insertionSort2(n, arr):\n",
    "    for i in range(1, n):\n",
    "       \n",
    "        e = arr[i]\n",
    "        count = 0\n",
    "        \n",
    "        if e < arr[i-1]:\n",
    "            for j in range(i, 0, -1):\n",
    "                \n",
    "                if e < arr[j-1]:\n",
    "                    arr[j] = arr[j-1]\n",
    "                    arr[j-1] = e\n",
    "                else:\n",
    "                    break\n",
    "    \n",
    "        print(\" \".join(map(str, arr)))"
   ]
  }
 ],
 "metadata": {
  "kernelspec": {
   "display_name": "Python 3 (ipykernel)",
   "language": "python",
   "name": "python3"
  },
  "language_info": {
   "codemirror_mode": {
    "name": "ipython",
    "version": 3
   },
   "file_extension": ".py",
   "mimetype": "text/x-python",
   "name": "python",
   "nbconvert_exporter": "python",
   "pygments_lexer": "ipython3",
   "version": "3.9.7"
  }
 },
 "nbformat": 4,
 "nbformat_minor": 5
}
